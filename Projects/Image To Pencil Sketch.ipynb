{
 "cells": [
  {
   "cell_type": "code",
   "execution_count": 5,
   "metadata": {},
   "outputs": [],
   "source": [
    "import cv2\n",
    "\n",
    "img = cv2.imread('../pic.jpg')\n",
    "def nothing(x):\n",
    "    pass\n",
    "\n",
    "cv2.namedWindow(\"Color Adjustments\",cv2.WINDOW_NORMAL)\n",
    "cv2.resizeWindow(\"Color Adjustments\", (300, 300)) \n",
    "cv2.createTrackbar(\"Scale\", \"Color Adjustments\", 0, 255, nothing)\n",
    "cv2.createTrackbar(\"Color\", \"Color Adjustments\", 0, 255, nothing)\n",
    "\n",
    "gray = cv2.cvtColor(img,cv2.COLOR_BGR2GRAY)\n",
    "\n",
    "while True:\n",
    "    scale =  cv2.getTrackbarPos(\"Scale\", \"Color Adjustments\")\n",
    "    clr = cv2.getTrackbarPos(\"Color\", \"Color Adjustments\")\n",
    "    \n",
    "    inverted_gray =  clr - gray\n",
    "    blur_img = cv2.GaussianBlur(inverted_gray,(21,21),0)\n",
    "    inverted_blur = clr - blur_img \n",
    "    fltr = cv2.divide(gray,inverted_blur,scale = scale)\n",
    "    cv2.imshow(\"opt\",fltr)\n",
    "    k = cv2.waitKey(1)\n",
    "    if k == ord(\"q\"):\n",
    "         break\n",
    "    if k == ord(\"s\"):\n",
    "        cv2.imwrite(\"sketch.jpg\",fltr)\n",
    "\n",
    "\n",
    "cv2.destroyAllWindows()"
   ]
  },
  {
   "cell_type": "code",
   "execution_count": null,
   "metadata": {},
   "outputs": [],
   "source": []
  }
 ],
 "metadata": {
  "kernelspec": {
   "display_name": "base",
   "language": "python",
   "name": "python3"
  },
  "language_info": {
   "codemirror_mode": {
    "name": "ipython",
    "version": 3
   },
   "file_extension": ".py",
   "mimetype": "text/x-python",
   "name": "python",
   "nbconvert_exporter": "python",
   "pygments_lexer": "ipython3",
   "version": "3.11.4"
  }
 },
 "nbformat": 4,
 "nbformat_minor": 2
}
