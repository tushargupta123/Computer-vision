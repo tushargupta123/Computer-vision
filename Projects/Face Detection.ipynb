{
 "cells": [
  {
   "cell_type": "code",
   "execution_count": 8,
   "metadata": {},
   "outputs": [],
   "source": [
    "import cv2\n",
    "\n",
    "image = cv2.imread('../Data/a.jpg')\n",
    "gray = cv2.cvtColor(image,cv2.COLOR_BGR2GRAY)\n",
    "face = cv2.CascadeClassifier('../Data/cascades/haarcascade_frontalface_default.xml')\n",
    "eye = cv2.CascadeClassifier('../Data/cascades/haarcascade_eye.xml')\n",
    "\n",
    "# (img,scale_factor[reduce image size],min_neighbour)\n",
    "faces = face.detectMultiScale(gray,1.2,4)\n",
    "\n",
    "for (x,y,w,h) in faces: \n",
    "    image = cv2.rectangle(image,(x,y),(x+w,y+h),(127,0,205),3)\n",
    "    roi_gray = gray[y:y+h,x:x+w]\n",
    "    roi_color = image[y:y+h,x:x+w]\n",
    "    eyes= eye.detectMultiScale(roi_gray,1.2,2)\n",
    "    for (ex,ey,ew,eh) in eyes:\n",
    "        cv2.rectangle(roi_color,(ex,ey),(ex+ew,ey+eh),(255,0,0),3)\n",
    "\n",
    "cv2.imshow('img',image)\n",
    "cv2.waitKey()\n",
    "cv2.destroyAllWindows()"
   ]
  },
  {
   "cell_type": "code",
   "execution_count": null,
   "metadata": {},
   "outputs": [],
   "source": []
  }
 ],
 "metadata": {
  "kernelspec": {
   "display_name": "base",
   "language": "python",
   "name": "python3"
  },
  "language_info": {
   "codemirror_mode": {
    "name": "ipython",
    "version": 3
   },
   "file_extension": ".py",
   "mimetype": "text/x-python",
   "name": "python",
   "nbconvert_exporter": "python",
   "pygments_lexer": "ipython3",
   "version": "3.11.4"
  }
 },
 "nbformat": 4,
 "nbformat_minor": 2
}
