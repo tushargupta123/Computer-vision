{
 "cells": [
  {
   "cell_type": "code",
   "execution_count": 11,
   "metadata": {},
   "outputs": [],
   "source": [
    "import cv2\n",
    "import mediapipe as mp \n",
    "import math"
   ]
  },
  {
   "cell_type": "code",
   "execution_count": 17,
   "metadata": {},
   "outputs": [],
   "source": [
    "from ctypes import cast,POINTER\n",
    "from comtypes import CLSCTX_ALL\n",
    "from pycaw.pycaw import AudioUtilities,IAudioEndpointVolume\n",
    "import numpy as np"
   ]
  },
  {
   "cell_type": "code",
   "execution_count": 26,
   "metadata": {},
   "outputs": [],
   "source": [
    "cap = cv2.VideoCapture(0)\n",
    "\n",
    "mpHands = mp.solutions.hands\n",
    "hands = mpHands.Hands()\n",
    "\n",
    "mpDraw = mp.solutions.drawing_utils\n",
    "\n",
    "devices = AudioUtilities.GetSpeakers()\n",
    "interface = devices.Activate(IAudioEndpointVolume._iid_,CLSCTX_ALL,None)\n",
    "volume = cast(interface,POINTER(IAudioEndpointVolume))\n",
    "volRange = volume.GetVolumeRange()\n",
    "minVol = volRange[0]\n",
    "maxVol = volRange[1]\n",
    "vol = 0\n",
    "volBar = 0\n",
    "volPer = 0\n",
    "\n",
    "while True:\n",
    "    success,img = cap.read()\n",
    "\n",
    "    imgRgb = cv2.cvtColor(img,cv2.COLOR_BGR2RGB)\n",
    "    results = hands.process(imgRgb)\n",
    "\n",
    "    if results.multi_hand_landmarks:\n",
    "        for handLms in results.multi_hand_landmarks:\n",
    "            for id,lm in enumerate(handLms.landmark):\n",
    "                h,w,c = img.shape\n",
    "                cx,cy = int(lm.x*w),int(lm.y*h)\n",
    "                x1,y1,x2,y2\n",
    "                if id==4:\n",
    "                    x1,y1 = cx,cy\n",
    "                    cv2.circle(img,(cx,cy),15,(255,0,255),cv2.FILLED)\n",
    "                if id==8:\n",
    "                    x2,y2 = cx,cy\n",
    "                    cv2.circle(img,(cx,cy),15,(255,0,255),cv2.FILLED)\n",
    "                cv2.line(img,(x1,y1),(x2,y2),(255,0,255),3)\n",
    "                length = math.hypot(x2-x1,y2-y1)\n",
    "                vol = np.interp(length,[25,120],[minVol,maxVol])\n",
    "                volBar = np.interp(length,[25,120],[400,150])\n",
    "                volPer = np.interp(length,[25,120],[0,100])\n",
    "\n",
    "                volume.SetMasterVolumeLevel(vol,None)\n",
    "            mpDraw.draw_landmarks(img,handLms,mpHands.HAND_CONNECTIONS)\n",
    "\n",
    "    cv2.rectangle(img,(50,150),(85,400),(0,255,0),3)\n",
    "    cv2.rectangle(img,(50,int(volBar)),(85,400),(0,255,0),cv2.FILLED)\n",
    "    cv2.putText(img,f'{int(volPer)} %',(40,50),cv2.FONT_HERSHEY_COMPLEX,1,(255,0,0),3)\n",
    "\n",
    "    cv2.imshow(\"Image\",img)\n",
    "    if cv2.waitKey(1)==ord('q'):\n",
    "        break\n",
    "\n",
    "cv2.destroyAllWindows()\n",
    "cap.release()"
   ]
  },
  {
   "cell_type": "code",
   "execution_count": null,
   "metadata": {},
   "outputs": [],
   "source": []
  }
 ],
 "metadata": {
  "kernelspec": {
   "display_name": "base",
   "language": "python",
   "name": "python3"
  },
  "language_info": {
   "codemirror_mode": {
    "name": "ipython",
    "version": 3
   },
   "file_extension": ".py",
   "mimetype": "text/x-python",
   "name": "python",
   "nbconvert_exporter": "python",
   "pygments_lexer": "ipython3",
   "version": "3.11.4"
  }
 },
 "nbformat": 4,
 "nbformat_minor": 2
}
